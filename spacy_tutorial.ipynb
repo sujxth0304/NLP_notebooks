{
  "nbformat": 4,
  "nbformat_minor": 0,
  "metadata": {
    "colab": {
      "provenance": [],
      "gpuType": "T4"
    },
    "kernelspec": {
      "name": "python3",
      "display_name": "Python 3"
    },
    "language_info": {
      "name": "python"
    },
    "accelerator": "GPU"
  },
  "cells": [
    {
      "cell_type": "markdown",
      "source": [],
      "metadata": {
        "id": "jaXsPsu5XRgO"
      }
    },
    {
      "cell_type": "code",
      "source": [
        "!pip install --upgrade spacy"
      ],
      "metadata": {
        "colab": {
          "base_uri": "https://localhost:8080/"
        },
        "id": "5vb5kD8Tco1a",
        "outputId": "3f9ec1cc-69cc-4755-fc13-0d78bb895ce6"
      },
      "execution_count": 4,
      "outputs": [
        {
          "output_type": "stream",
          "name": "stdout",
          "text": [
            "Requirement already satisfied: spacy in /usr/local/lib/python3.10/dist-packages (3.7.5)\n",
            "Requirement already satisfied: spacy-legacy<3.1.0,>=3.0.11 in /usr/local/lib/python3.10/dist-packages (from spacy) (3.0.12)\n",
            "Requirement already satisfied: spacy-loggers<2.0.0,>=1.0.0 in /usr/local/lib/python3.10/dist-packages (from spacy) (1.0.5)\n",
            "Requirement already satisfied: murmurhash<1.1.0,>=0.28.0 in /usr/local/lib/python3.10/dist-packages (from spacy) (1.0.10)\n",
            "Requirement already satisfied: cymem<2.1.0,>=2.0.2 in /usr/local/lib/python3.10/dist-packages (from spacy) (2.0.8)\n",
            "Requirement already satisfied: preshed<3.1.0,>=3.0.2 in /usr/local/lib/python3.10/dist-packages (from spacy) (3.0.9)\n",
            "Requirement already satisfied: thinc<8.3.0,>=8.2.2 in /usr/local/lib/python3.10/dist-packages (from spacy) (8.2.5)\n",
            "Requirement already satisfied: wasabi<1.2.0,>=0.9.1 in /usr/local/lib/python3.10/dist-packages (from spacy) (1.1.3)\n",
            "Requirement already satisfied: srsly<3.0.0,>=2.4.3 in /usr/local/lib/python3.10/dist-packages (from spacy) (2.4.8)\n",
            "Requirement already satisfied: catalogue<2.1.0,>=2.0.6 in /usr/local/lib/python3.10/dist-packages (from spacy) (2.0.10)\n",
            "Requirement already satisfied: weasel<0.5.0,>=0.1.0 in /usr/local/lib/python3.10/dist-packages (from spacy) (0.4.1)\n",
            "Requirement already satisfied: typer<1.0.0,>=0.3.0 in /usr/local/lib/python3.10/dist-packages (from spacy) (0.12.3)\n",
            "Requirement already satisfied: tqdm<5.0.0,>=4.38.0 in /usr/local/lib/python3.10/dist-packages (from spacy) (4.66.4)\n",
            "Requirement already satisfied: requests<3.0.0,>=2.13.0 in /usr/local/lib/python3.10/dist-packages (from spacy) (2.31.0)\n",
            "Requirement already satisfied: pydantic!=1.8,!=1.8.1,<3.0.0,>=1.7.4 in /usr/local/lib/python3.10/dist-packages (from spacy) (2.8.0)\n",
            "Requirement already satisfied: jinja2 in /usr/local/lib/python3.10/dist-packages (from spacy) (3.1.4)\n",
            "Requirement already satisfied: setuptools in /usr/local/lib/python3.10/dist-packages (from spacy) (67.7.2)\n",
            "Requirement already satisfied: packaging>=20.0 in /usr/local/lib/python3.10/dist-packages (from spacy) (24.1)\n",
            "Requirement already satisfied: langcodes<4.0.0,>=3.2.0 in /usr/local/lib/python3.10/dist-packages (from spacy) (3.4.0)\n",
            "Requirement already satisfied: numpy>=1.19.0 in /usr/local/lib/python3.10/dist-packages (from spacy) (1.25.2)\n",
            "Requirement already satisfied: language-data>=1.2 in /usr/local/lib/python3.10/dist-packages (from langcodes<4.0.0,>=3.2.0->spacy) (1.2.0)\n",
            "Requirement already satisfied: annotated-types>=0.4.0 in /usr/local/lib/python3.10/dist-packages (from pydantic!=1.8,!=1.8.1,<3.0.0,>=1.7.4->spacy) (0.7.0)\n",
            "Requirement already satisfied: pydantic-core==2.20.0 in /usr/local/lib/python3.10/dist-packages (from pydantic!=1.8,!=1.8.1,<3.0.0,>=1.7.4->spacy) (2.20.0)\n",
            "Requirement already satisfied: typing-extensions>=4.6.1 in /usr/local/lib/python3.10/dist-packages (from pydantic!=1.8,!=1.8.1,<3.0.0,>=1.7.4->spacy) (4.12.2)\n",
            "Requirement already satisfied: charset-normalizer<4,>=2 in /usr/local/lib/python3.10/dist-packages (from requests<3.0.0,>=2.13.0->spacy) (3.3.2)\n",
            "Requirement already satisfied: idna<4,>=2.5 in /usr/local/lib/python3.10/dist-packages (from requests<3.0.0,>=2.13.0->spacy) (3.7)\n",
            "Requirement already satisfied: urllib3<3,>=1.21.1 in /usr/local/lib/python3.10/dist-packages (from requests<3.0.0,>=2.13.0->spacy) (2.0.7)\n",
            "Requirement already satisfied: certifi>=2017.4.17 in /usr/local/lib/python3.10/dist-packages (from requests<3.0.0,>=2.13.0->spacy) (2024.6.2)\n",
            "Requirement already satisfied: blis<0.8.0,>=0.7.8 in /usr/local/lib/python3.10/dist-packages (from thinc<8.3.0,>=8.2.2->spacy) (0.7.11)\n",
            "Requirement already satisfied: confection<1.0.0,>=0.0.1 in /usr/local/lib/python3.10/dist-packages (from thinc<8.3.0,>=8.2.2->spacy) (0.1.5)\n",
            "Requirement already satisfied: click>=8.0.0 in /usr/local/lib/python3.10/dist-packages (from typer<1.0.0,>=0.3.0->spacy) (8.1.7)\n",
            "Requirement already satisfied: shellingham>=1.3.0 in /usr/local/lib/python3.10/dist-packages (from typer<1.0.0,>=0.3.0->spacy) (1.5.4)\n",
            "Requirement already satisfied: rich>=10.11.0 in /usr/local/lib/python3.10/dist-packages (from typer<1.0.0,>=0.3.0->spacy) (13.7.1)\n",
            "Requirement already satisfied: cloudpathlib<1.0.0,>=0.7.0 in /usr/local/lib/python3.10/dist-packages (from weasel<0.5.0,>=0.1.0->spacy) (0.18.1)\n",
            "Requirement already satisfied: smart-open<8.0.0,>=5.2.1 in /usr/local/lib/python3.10/dist-packages (from weasel<0.5.0,>=0.1.0->spacy) (7.0.4)\n",
            "Requirement already satisfied: MarkupSafe>=2.0 in /usr/local/lib/python3.10/dist-packages (from jinja2->spacy) (2.1.5)\n",
            "Requirement already satisfied: marisa-trie>=0.7.7 in /usr/local/lib/python3.10/dist-packages (from language-data>=1.2->langcodes<4.0.0,>=3.2.0->spacy) (1.2.0)\n",
            "Requirement already satisfied: markdown-it-py>=2.2.0 in /usr/local/lib/python3.10/dist-packages (from rich>=10.11.0->typer<1.0.0,>=0.3.0->spacy) (3.0.0)\n",
            "Requirement already satisfied: pygments<3.0.0,>=2.13.0 in /usr/local/lib/python3.10/dist-packages (from rich>=10.11.0->typer<1.0.0,>=0.3.0->spacy) (2.16.1)\n",
            "Requirement already satisfied: wrapt in /usr/local/lib/python3.10/dist-packages (from smart-open<8.0.0,>=5.2.1->weasel<0.5.0,>=0.1.0->spacy) (1.14.1)\n",
            "Requirement already satisfied: mdurl~=0.1 in /usr/local/lib/python3.10/dist-packages (from markdown-it-py>=2.2.0->rich>=10.11.0->typer<1.0.0,>=0.3.0->spacy) (0.1.2)\n"
          ]
        }
      ]
    },
    {
      "cell_type": "code",
      "source": [
        "!pip uninstall cupy-cuda111\n",
        "!pip uninstall cupy-cuda12x"
      ],
      "metadata": {
        "colab": {
          "base_uri": "https://localhost:8080/"
        },
        "id": "htdr5EH_crAl",
        "outputId": "e856191e-d6ea-4635-afcf-9f9be71547d6"
      },
      "execution_count": 6,
      "outputs": [
        {
          "output_type": "stream",
          "name": "stdout",
          "text": [
            "Found existing installation: cupy-cuda111 12.3.0\n",
            "Uninstalling cupy-cuda111-12.3.0:\n",
            "  Would remove:\n",
            "    /usr/local/lib/python3.10/dist-packages/cupy/*\n",
            "    /usr/local/lib/python3.10/dist-packages/cupy_backends/*\n",
            "    /usr/local/lib/python3.10/dist-packages/cupy_cuda111-12.3.0.dist-info/*\n",
            "    /usr/local/lib/python3.10/dist-packages/cupyx/*\n",
            "  Would not remove (might be manually added):\n",
            "    /usr/local/lib/python3.10/dist-packages/cupy/_core/include/cupy/cub/CHANGE_LOG.TXT\n",
            "    /usr/local/lib/python3.10/dist-packages/cupy/_core/include/cupy/cub/README.md\n",
            "    /usr/local/lib/python3.10/dist-packages/cupy/_core/include/cupy/cub/common.mk\n",
            "    /usr/local/lib/python3.10/dist-packages/cupy/_core/include/cupy/cub/eclipse code style profile.xml\n",
            "    /usr/local/lib/python3.10/dist-packages/cupy/_core/include/cupy/cub/examples/block/Makefile\n",
            "    /usr/local/lib/python3.10/dist-packages/cupy/_core/include/cupy/cub/examples/block/example_block_radix_sort.cu\n",
            "    /usr/local/lib/python3.10/dist-packages/cupy/_core/include/cupy/cub/examples/block/example_block_reduce.cu\n",
            "    /usr/local/lib/python3.10/dist-packages/cupy/_core/include/cupy/cub/examples/block/example_block_scan.cu\n",
            "    /usr/local/lib/python3.10/dist-packages/cupy/_core/include/cupy/cub/examples/block/reduce_by_key.cu\n",
            "    /usr/local/lib/python3.10/dist-packages/cupy/_core/include/cupy/cub/examples/device/Makefile\n",
            "    /usr/local/lib/python3.10/dist-packages/cupy/_core/include/cupy/cub/examples/device/example_device_partition_flagged.cu\n",
            "    /usr/local/lib/python3.10/dist-packages/cupy/_core/include/cupy/cub/examples/device/example_device_partition_if.cu\n",
            "    /usr/local/lib/python3.10/dist-packages/cupy/_core/include/cupy/cub/examples/device/example_device_radix_sort.cu\n",
            "    /usr/local/lib/python3.10/dist-packages/cupy/_core/include/cupy/cub/examples/device/example_device_reduce.cu\n",
            "    /usr/local/lib/python3.10/dist-packages/cupy/_core/include/cupy/cub/examples/device/example_device_scan.cu\n",
            "    /usr/local/lib/python3.10/dist-packages/cupy/_core/include/cupy/cub/examples/device/example_device_select_flagged.cu\n",
            "    /usr/local/lib/python3.10/dist-packages/cupy/_core/include/cupy/cub/examples/device/example_device_select_if.cu\n",
            "    /usr/local/lib/python3.10/dist-packages/cupy/_core/include/cupy/cub/examples/device/example_device_select_unique.cu\n",
            "    /usr/local/lib/python3.10/dist-packages/cupy/_core/include/cupy/cub/examples/device/example_device_sort_find_non_trivial_runs.cu\n",
            "    /usr/local/lib/python3.10/dist-packages/cupy/_core/include/cupy/cub/experimental/Makefile\n",
            "    /usr/local/lib/python3.10/dist-packages/cupy/_core/include/cupy/cub/experimental/defunct/example_coo_spmv.cu\n",
            "    /usr/local/lib/python3.10/dist-packages/cupy/_core/include/cupy/cub/experimental/defunct/test_device_seg_reduce.cu\n",
            "    /usr/local/lib/python3.10/dist-packages/cupy/_core/include/cupy/cub/experimental/histogram/histogram_cub.h\n",
            "    /usr/local/lib/python3.10/dist-packages/cupy/_core/include/cupy/cub/experimental/histogram/histogram_gmem_atomics.h\n",
            "    /usr/local/lib/python3.10/dist-packages/cupy/_core/include/cupy/cub/experimental/histogram/histogram_smem_atomics.h\n",
            "    /usr/local/lib/python3.10/dist-packages/cupy/_core/include/cupy/cub/experimental/histogram_compare.cu\n",
            "    /usr/local/lib/python3.10/dist-packages/cupy/_core/include/cupy/cub/experimental/sparse_matrix.h\n",
            "    /usr/local/lib/python3.10/dist-packages/cupy/_core/include/cupy/cub/experimental/spmv_compare.cu\n",
            "    /usr/local/lib/python3.10/dist-packages/cupy/_core/include/cupy/cub/experimental/spmv_script.sh\n",
            "    /usr/local/lib/python3.10/dist-packages/cupy/_core/include/cupy/cub/test/Makefile\n",
            "    /usr/local/lib/python3.10/dist-packages/cupy/_core/include/cupy/cub/test/half.h\n",
            "    /usr/local/lib/python3.10/dist-packages/cupy/_core/include/cupy/cub/test/link_a.cu\n",
            "    /usr/local/lib/python3.10/dist-packages/cupy/_core/include/cupy/cub/test/link_b.cu\n",
            "    /usr/local/lib/python3.10/dist-packages/cupy/_core/include/cupy/cub/test/link_main.cpp\n",
            "    /usr/local/lib/python3.10/dist-packages/cupy/_core/include/cupy/cub/test/mersenne.h\n",
            "    /usr/local/lib/python3.10/dist-packages/cupy/_core/include/cupy/cub/test/test_allocator.cu\n",
            "    /usr/local/lib/python3.10/dist-packages/cupy/_core/include/cupy/cub/test/test_block_histogram.cu\n",
            "    /usr/local/lib/python3.10/dist-packages/cupy/_core/include/cupy/cub/test/test_block_load_store.cu\n",
            "    /usr/local/lib/python3.10/dist-packages/cupy/_core/include/cupy/cub/test/test_block_radix_sort.cu\n",
            "    /usr/local/lib/python3.10/dist-packages/cupy/_core/include/cupy/cub/test/test_block_reduce.cu\n",
            "    /usr/local/lib/python3.10/dist-packages/cupy/_core/include/cupy/cub/test/test_block_scan.cu\n",
            "    /usr/local/lib/python3.10/dist-packages/cupy/_core/include/cupy/cub/test/test_device_histogram.cu\n",
            "    /usr/local/lib/python3.10/dist-packages/cupy/_core/include/cupy/cub/test/test_device_radix_sort.cu\n",
            "    /usr/local/lib/python3.10/dist-packages/cupy/_core/include/cupy/cub/test/test_device_reduce.cu\n",
            "    /usr/local/lib/python3.10/dist-packages/cupy/_core/include/cupy/cub/test/test_device_reduce_by_key.cu\n",
            "    /usr/local/lib/python3.10/dist-packages/cupy/_core/include/cupy/cub/test/test_device_run_length_encode.cu\n",
            "    /usr/local/lib/python3.10/dist-packages/cupy/_core/include/cupy/cub/test/test_device_scan.cu\n",
            "    /usr/local/lib/python3.10/dist-packages/cupy/_core/include/cupy/cub/test/test_device_select_if.cu\n",
            "    /usr/local/lib/python3.10/dist-packages/cupy/_core/include/cupy/cub/test/test_device_select_unique.cu\n",
            "    /usr/local/lib/python3.10/dist-packages/cupy/_core/include/cupy/cub/test/test_grid_barrier.cu\n",
            "    /usr/local/lib/python3.10/dist-packages/cupy/_core/include/cupy/cub/test/test_iterator.cu\n",
            "    /usr/local/lib/python3.10/dist-packages/cupy/_core/include/cupy/cub/test/test_util.h\n",
            "    /usr/local/lib/python3.10/dist-packages/cupy/_core/include/cupy/cub/test/test_warp_reduce.cu\n",
            "    /usr/local/lib/python3.10/dist-packages/cupy/_core/include/cupy/cub/test/test_warp_scan.cu\n",
            "    /usr/local/lib/python3.10/dist-packages/cupy/_core/include/cupy/cub/tune/Makefile\n",
            "    /usr/local/lib/python3.10/dist-packages/cupy/_core/include/cupy/cub/tune/tune_device_reduce.cu\n",
            "Proceed (Y/n)? Y\n",
            "  Successfully uninstalled cupy-cuda111-12.3.0\n",
            "Found existing installation: cupy-cuda12x 12.2.0\n",
            "Uninstalling cupy-cuda12x-12.2.0:\n",
            "  Would remove:\n",
            "    /usr/local/lib/python3.10/dist-packages/cupy/_core/include/cupy/cub/CHANGE_LOG.TXT\n",
            "    /usr/local/lib/python3.10/dist-packages/cupy/_core/include/cupy/cub/README.md\n",
            "    /usr/local/lib/python3.10/dist-packages/cupy/_core/include/cupy/cub/common.mk\n",
            "    /usr/local/lib/python3.10/dist-packages/cupy/_core/include/cupy/cub/eclipse code style profile.xml\n",
            "    /usr/local/lib/python3.10/dist-packages/cupy/_core/include/cupy/cub/examples/block/Makefile\n",
            "    /usr/local/lib/python3.10/dist-packages/cupy/_core/include/cupy/cub/examples/block/example_block_radix_sort.cu\n",
            "    /usr/local/lib/python3.10/dist-packages/cupy/_core/include/cupy/cub/examples/block/example_block_reduce.cu\n",
            "    /usr/local/lib/python3.10/dist-packages/cupy/_core/include/cupy/cub/examples/block/example_block_scan.cu\n",
            "    /usr/local/lib/python3.10/dist-packages/cupy/_core/include/cupy/cub/examples/block/reduce_by_key.cu\n",
            "    /usr/local/lib/python3.10/dist-packages/cupy/_core/include/cupy/cub/examples/device/Makefile\n",
            "    /usr/local/lib/python3.10/dist-packages/cupy/_core/include/cupy/cub/examples/device/example_device_partition_flagged.cu\n",
            "    /usr/local/lib/python3.10/dist-packages/cupy/_core/include/cupy/cub/examples/device/example_device_partition_if.cu\n",
            "    /usr/local/lib/python3.10/dist-packages/cupy/_core/include/cupy/cub/examples/device/example_device_radix_sort.cu\n",
            "    /usr/local/lib/python3.10/dist-packages/cupy/_core/include/cupy/cub/examples/device/example_device_reduce.cu\n",
            "    /usr/local/lib/python3.10/dist-packages/cupy/_core/include/cupy/cub/examples/device/example_device_scan.cu\n",
            "    /usr/local/lib/python3.10/dist-packages/cupy/_core/include/cupy/cub/examples/device/example_device_select_flagged.cu\n",
            "    /usr/local/lib/python3.10/dist-packages/cupy/_core/include/cupy/cub/examples/device/example_device_select_if.cu\n",
            "    /usr/local/lib/python3.10/dist-packages/cupy/_core/include/cupy/cub/examples/device/example_device_select_unique.cu\n",
            "    /usr/local/lib/python3.10/dist-packages/cupy/_core/include/cupy/cub/examples/device/example_device_sort_find_non_trivial_runs.cu\n",
            "    /usr/local/lib/python3.10/dist-packages/cupy/_core/include/cupy/cub/experimental/Makefile\n",
            "    /usr/local/lib/python3.10/dist-packages/cupy/_core/include/cupy/cub/experimental/defunct/example_coo_spmv.cu\n",
            "    /usr/local/lib/python3.10/dist-packages/cupy/_core/include/cupy/cub/experimental/defunct/test_device_seg_reduce.cu\n",
            "    /usr/local/lib/python3.10/dist-packages/cupy/_core/include/cupy/cub/experimental/histogram/histogram_cub.h\n",
            "    /usr/local/lib/python3.10/dist-packages/cupy/_core/include/cupy/cub/experimental/histogram/histogram_gmem_atomics.h\n",
            "    /usr/local/lib/python3.10/dist-packages/cupy/_core/include/cupy/cub/experimental/histogram/histogram_smem_atomics.h\n",
            "    /usr/local/lib/python3.10/dist-packages/cupy/_core/include/cupy/cub/experimental/histogram_compare.cu\n",
            "    /usr/local/lib/python3.10/dist-packages/cupy/_core/include/cupy/cub/experimental/sparse_matrix.h\n",
            "    /usr/local/lib/python3.10/dist-packages/cupy/_core/include/cupy/cub/experimental/spmv_compare.cu\n",
            "    /usr/local/lib/python3.10/dist-packages/cupy/_core/include/cupy/cub/experimental/spmv_script.sh\n",
            "    /usr/local/lib/python3.10/dist-packages/cupy/_core/include/cupy/cub/test/Makefile\n",
            "    /usr/local/lib/python3.10/dist-packages/cupy/_core/include/cupy/cub/test/half.h\n",
            "    /usr/local/lib/python3.10/dist-packages/cupy/_core/include/cupy/cub/test/link_a.cu\n",
            "    /usr/local/lib/python3.10/dist-packages/cupy/_core/include/cupy/cub/test/link_b.cu\n",
            "    /usr/local/lib/python3.10/dist-packages/cupy/_core/include/cupy/cub/test/link_main.cpp\n",
            "    /usr/local/lib/python3.10/dist-packages/cupy/_core/include/cupy/cub/test/mersenne.h\n",
            "    /usr/local/lib/python3.10/dist-packages/cupy/_core/include/cupy/cub/test/test_allocator.cu\n",
            "    /usr/local/lib/python3.10/dist-packages/cupy/_core/include/cupy/cub/test/test_block_histogram.cu\n",
            "    /usr/local/lib/python3.10/dist-packages/cupy/_core/include/cupy/cub/test/test_block_load_store.cu\n",
            "    /usr/local/lib/python3.10/dist-packages/cupy/_core/include/cupy/cub/test/test_block_radix_sort.cu\n",
            "    /usr/local/lib/python3.10/dist-packages/cupy/_core/include/cupy/cub/test/test_block_reduce.cu\n",
            "    /usr/local/lib/python3.10/dist-packages/cupy/_core/include/cupy/cub/test/test_block_scan.cu\n",
            "    /usr/local/lib/python3.10/dist-packages/cupy/_core/include/cupy/cub/test/test_device_histogram.cu\n",
            "    /usr/local/lib/python3.10/dist-packages/cupy/_core/include/cupy/cub/test/test_device_radix_sort.cu\n",
            "    /usr/local/lib/python3.10/dist-packages/cupy/_core/include/cupy/cub/test/test_device_reduce.cu\n",
            "    /usr/local/lib/python3.10/dist-packages/cupy/_core/include/cupy/cub/test/test_device_reduce_by_key.cu\n",
            "    /usr/local/lib/python3.10/dist-packages/cupy/_core/include/cupy/cub/test/test_device_run_length_encode.cu\n",
            "    /usr/local/lib/python3.10/dist-packages/cupy/_core/include/cupy/cub/test/test_device_scan.cu\n",
            "    /usr/local/lib/python3.10/dist-packages/cupy/_core/include/cupy/cub/test/test_device_select_if.cu\n",
            "    /usr/local/lib/python3.10/dist-packages/cupy/_core/include/cupy/cub/test/test_device_select_unique.cu\n",
            "    /usr/local/lib/python3.10/dist-packages/cupy/_core/include/cupy/cub/test/test_grid_barrier.cu\n",
            "    /usr/local/lib/python3.10/dist-packages/cupy/_core/include/cupy/cub/test/test_iterator.cu\n",
            "    /usr/local/lib/python3.10/dist-packages/cupy/_core/include/cupy/cub/test/test_util.h\n",
            "    /usr/local/lib/python3.10/dist-packages/cupy/_core/include/cupy/cub/test/test_warp_reduce.cu\n",
            "    /usr/local/lib/python3.10/dist-packages/cupy/_core/include/cupy/cub/test/test_warp_scan.cu\n",
            "    /usr/local/lib/python3.10/dist-packages/cupy/_core/include/cupy/cub/tune/Makefile\n",
            "    /usr/local/lib/python3.10/dist-packages/cupy/_core/include/cupy/cub/tune/tune_device_reduce.cu\n",
            "    /usr/local/lib/python3.10/dist-packages/cupy_cuda12x-12.2.0.dist-info/*\n",
            "Proceed (Y/n)? Y\n",
            "  Successfully uninstalled cupy-cuda12x-12.2.0\n"
          ]
        }
      ]
    },
    {
      "cell_type": "code",
      "source": [
        "!pip install cupy-cuda111"
      ],
      "metadata": {
        "colab": {
          "base_uri": "https://localhost:8080/"
        },
        "id": "mkZu43kYc3gU",
        "outputId": "40e98d61-848f-4c88-970f-cb74e09c7e04"
      },
      "execution_count": 8,
      "outputs": [
        {
          "output_type": "stream",
          "name": "stdout",
          "text": [
            "Collecting cupy-cuda111\n",
            "  Using cached cupy_cuda111-12.3.0-cp310-cp310-manylinux2014_x86_64.whl (101.1 MB)\n",
            "Requirement already satisfied: numpy<1.29,>=1.20 in /usr/local/lib/python3.10/dist-packages (from cupy-cuda111) (1.25.2)\n",
            "Requirement already satisfied: fastrlock>=0.5 in /usr/local/lib/python3.10/dist-packages (from cupy-cuda111) (0.8.2)\n",
            "Installing collected packages: cupy-cuda111\n",
            "Successfully installed cupy-cuda111-12.3.0\n"
          ]
        }
      ]
    },
    {
      "cell_type": "code",
      "source": [
        "pip install --upgrade transformers"
      ],
      "metadata": {
        "colab": {
          "base_uri": "https://localhost:8080/",
          "height": 724
        },
        "id": "A1CvPllbdPbe",
        "outputId": "67562f65-3dcf-4570-9927-da0bff10caed"
      },
      "execution_count": 9,
      "outputs": [
        {
          "output_type": "stream",
          "name": "stdout",
          "text": [
            "Requirement already satisfied: transformers in /usr/local/lib/python3.10/dist-packages (4.36.2)\n",
            "Collecting transformers\n",
            "  Downloading transformers-4.42.3-py3-none-any.whl (9.3 MB)\n",
            "\u001b[2K     \u001b[90m━━━━━━━━━━━━━━━━━━━━━━━━━━━━━━━━━━━━━━━━\u001b[0m \u001b[32m9.3/9.3 MB\u001b[0m \u001b[31m69.5 MB/s\u001b[0m eta \u001b[36m0:00:00\u001b[0m\n",
            "\u001b[?25hRequirement already satisfied: filelock in /usr/local/lib/python3.10/dist-packages (from transformers) (3.15.4)\n",
            "Requirement already satisfied: huggingface-hub<1.0,>=0.23.2 in /usr/local/lib/python3.10/dist-packages (from transformers) (0.23.4)\n",
            "Requirement already satisfied: numpy<2.0,>=1.17 in /usr/local/lib/python3.10/dist-packages (from transformers) (1.25.2)\n",
            "Requirement already satisfied: packaging>=20.0 in /usr/local/lib/python3.10/dist-packages (from transformers) (24.1)\n",
            "Requirement already satisfied: pyyaml>=5.1 in /usr/local/lib/python3.10/dist-packages (from transformers) (6.0.1)\n",
            "Requirement already satisfied: regex!=2019.12.17 in /usr/local/lib/python3.10/dist-packages (from transformers) (2024.5.15)\n",
            "Requirement already satisfied: requests in /usr/local/lib/python3.10/dist-packages (from transformers) (2.31.0)\n",
            "Requirement already satisfied: safetensors>=0.4.1 in /usr/local/lib/python3.10/dist-packages (from transformers) (0.4.3)\n",
            "Collecting tokenizers<0.20,>=0.19 (from transformers)\n",
            "  Downloading tokenizers-0.19.1-cp310-cp310-manylinux_2_17_x86_64.manylinux2014_x86_64.whl (3.6 MB)\n",
            "\u001b[2K     \u001b[90m━━━━━━━━━━━━━━━━━━━━━━━━━━━━━━━━━━━━━━━━\u001b[0m \u001b[32m3.6/3.6 MB\u001b[0m \u001b[31m73.0 MB/s\u001b[0m eta \u001b[36m0:00:00\u001b[0m\n",
            "\u001b[?25hRequirement already satisfied: tqdm>=4.27 in /usr/local/lib/python3.10/dist-packages (from transformers) (4.66.4)\n",
            "Requirement already satisfied: fsspec>=2023.5.0 in /usr/local/lib/python3.10/dist-packages (from huggingface-hub<1.0,>=0.23.2->transformers) (2023.6.0)\n",
            "Requirement already satisfied: typing-extensions>=3.7.4.3 in /usr/local/lib/python3.10/dist-packages (from huggingface-hub<1.0,>=0.23.2->transformers) (4.12.2)\n",
            "Requirement already satisfied: charset-normalizer<4,>=2 in /usr/local/lib/python3.10/dist-packages (from requests->transformers) (3.3.2)\n",
            "Requirement already satisfied: idna<4,>=2.5 in /usr/local/lib/python3.10/dist-packages (from requests->transformers) (3.7)\n",
            "Requirement already satisfied: urllib3<3,>=1.21.1 in /usr/local/lib/python3.10/dist-packages (from requests->transformers) (2.0.7)\n",
            "Requirement already satisfied: certifi>=2017.4.17 in /usr/local/lib/python3.10/dist-packages (from requests->transformers) (2024.6.2)\n",
            "Installing collected packages: tokenizers, transformers\n",
            "  Attempting uninstall: tokenizers\n",
            "    Found existing installation: tokenizers 0.15.2\n",
            "    Uninstalling tokenizers-0.15.2:\n",
            "      Successfully uninstalled tokenizers-0.15.2\n",
            "  Attempting uninstall: transformers\n",
            "    Found existing installation: transformers 4.36.2\n",
            "    Uninstalling transformers-4.36.2:\n",
            "      Successfully uninstalled transformers-4.36.2\n",
            "\u001b[31mERROR: pip's dependency resolver does not currently take into account all the packages that are installed. This behaviour is the source of the following dependency conflicts.\n",
            "spacy-transformers 1.3.5 requires transformers<4.37.0,>=3.4.0, but you have transformers 4.42.3 which is incompatible.\u001b[0m\u001b[31m\n",
            "\u001b[0mSuccessfully installed tokenizers-0.19.1 transformers-4.42.3\n"
          ]
        },
        {
          "output_type": "display_data",
          "data": {
            "application/vnd.colab-display-data+json": {
              "pip_warning": {
                "packages": [
                  "transformers"
                ]
              },
              "id": "667b18747a144382b6599b7befa73c75"
            }
          },
          "metadata": {}
        }
      ]
    },
    {
      "cell_type": "code",
      "source": [
        "import spacy\n",
        "nlp = spacy.load(\"en_core_web_sm\")"
      ],
      "metadata": {
        "id": "eBmkuJ-cdk08"
      },
      "execution_count": 3,
      "outputs": []
    },
    {
      "cell_type": "code",
      "source": [
        "def show_ents(doc):\n",
        "    if doc.ents:\n",
        "        for ent in doc.ents:\n",
        "            print(ent.text + ' - ' + ent.label_ + ' - ' + str(spacy.explain(ent.label_)))\n",
        "    else:\n",
        "        print('No entities found')"
      ],
      "metadata": {
        "id": "9cM_WPahdtBJ"
      },
      "execution_count": 4,
      "outputs": []
    },
    {
      "cell_type": "code",
      "source": [
        "doc1 = nlp(\"Apple is looking at buying U.K. startup for $1 billion\")\n",
        "show_ents(doc1)"
      ],
      "metadata": {
        "colab": {
          "base_uri": "https://localhost:8080/"
        },
        "id": "1hnmuOM_fSN-",
        "outputId": "fdc3674e-5773-47f0-d9c0-7f7dfd5f2712"
      },
      "execution_count": 5,
      "outputs": [
        {
          "output_type": "stream",
          "name": "stdout",
          "text": [
            "Apple - ORG - Companies, agencies, institutions, etc.\n",
            "U.K. - GPE - Countries, cities, states\n",
            "$1 billion - MONEY - Monetary values, including unit\n"
          ]
        }
      ]
    },
    {
      "cell_type": "code",
      "source": [
        "doc2 = nlp(u'May I go to Washington, DC next May to see the Washington Monument?')\n",
        "show_ents(doc2)"
      ],
      "metadata": {
        "colab": {
          "base_uri": "https://localhost:8080/"
        },
        "id": "c5DTufHEfd0i",
        "outputId": "060e848c-feb5-404a-dfbd-5e5905a5a826"
      },
      "execution_count": 10,
      "outputs": [
        {
          "output_type": "stream",
          "name": "stdout",
          "text": [
            "Washington, DC - GPE - Countries, cities, states\n",
            "next May - DATE - Absolute or relative dates or periods\n",
            "the Washington Monument - ORG - Companies, agencies, institutions, etc.\n"
          ]
        }
      ]
    },
    {
      "cell_type": "code",
      "source": [
        "doc3 = nlp(u'Can I please borrow 500 dollars from you to buy some Microsoft stock?')\n",
        "show_ents(doc3)"
      ],
      "metadata": {
        "colab": {
          "base_uri": "https://localhost:8080/"
        },
        "id": "o2QU945Vswku",
        "outputId": "606f4fcb-c74c-4149-d3c5-61a2d3f23469"
      },
      "execution_count": 11,
      "outputs": [
        {
          "output_type": "stream",
          "name": "stdout",
          "text": [
            "500 dollars - MONEY - Monetary values, including unit\n",
            "Microsoft - ORG - Companies, agencies, institutions, etc.\n"
          ]
        }
      ]
    },
    {
      "cell_type": "code",
      "source": [
        "doc4 = nlp(u'Tesla isn\\'t looking into startups anymore.')\n",
        "show_ents(doc4)"
      ],
      "metadata": {
        "colab": {
          "base_uri": "https://localhost:8080/"
        },
        "id": "GuYyrabAtgQz",
        "outputId": "0e3c175d-9015-4ae4-f5f1-9b6385942db4"
      },
      "execution_count": 12,
      "outputs": [
        {
          "output_type": "stream",
          "name": "stdout",
          "text": [
            "Tesla - ORG - Companies, agencies, institutions, etc.\n"
          ]
        }
      ]
    },
    {
      "cell_type": "code",
      "source": [
        "from spacy import displacy"
      ],
      "metadata": {
        "id": "TgkULK3HuPor"
      },
      "execution_count": 13,
      "outputs": []
    },
    {
      "cell_type": "code",
      "source": [
        "text = \"When S.Thrun started working on self driving cars at Google in 2007, few people outside of the company took him seriously.\"\n",
        "doc = nlp(text)\n",
        "displacy.render(doc, style='ent', jupyter=True)"
      ],
      "metadata": {
        "colab": {
          "base_uri": "https://localhost:8080/",
          "height": 87
        },
        "id": "41BW4DUVu57O",
        "outputId": "4aa776eb-6692-492c-eeb8-e9d53c5cce75"
      },
      "execution_count": 14,
      "outputs": [
        {
          "output_type": "display_data",
          "data": {
            "text/plain": [
              "<IPython.core.display.HTML object>"
            ],
            "text/html": [
              "<span class=\"tex2jax_ignore\"><div class=\"entities\" style=\"line-height: 2.5; direction: ltr\">When S.Thrun started working on self driving cars at \n",
              "<mark class=\"entity\" style=\"background: #7aecec; padding: 0.45em 0.6em; margin: 0 0.25em; line-height: 1; border-radius: 0.35em;\">\n",
              "    Google\n",
              "    <span style=\"font-size: 0.8em; font-weight: bold; line-height: 1; border-radius: 0.35em; vertical-align: middle; margin-left: 0.5rem\">ORG</span>\n",
              "</mark>\n",
              " in \n",
              "<mark class=\"entity\" style=\"background: #bfe1d9; padding: 0.45em 0.6em; margin: 0 0.25em; line-height: 1; border-radius: 0.35em;\">\n",
              "    2007\n",
              "    <span style=\"font-size: 0.8em; font-weight: bold; line-height: 1; border-radius: 0.35em; vertical-align: middle; margin-left: 0.5rem\">DATE</span>\n",
              "</mark>\n",
              ", few people outside of the company took him seriously.</div></span>"
            ]
          },
          "metadata": {}
        }
      ]
    },
    {
      "cell_type": "markdown",
      "source": [],
      "metadata": {
        "id": "cFuxB2p-w2dI"
      }
    }
  ]
}